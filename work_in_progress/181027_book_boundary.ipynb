{
 "cells": [
  {
   "cell_type": "markdown",
   "metadata": {},
   "source": [
    "## Boundary detection"
   ]
  },
  {
   "cell_type": "code",
   "execution_count": 6,
   "metadata": {},
   "outputs": [],
   "source": [
    "import numpy as np\n",
    "import cv2\n",
    "from matplotlib import pyplot as plt\n"
   ]
  },
  {
   "cell_type": "code",
   "execution_count": 7,
   "metadata": {},
   "outputs": [],
   "source": [
    "\n",
    "MIN_MATCH_COUNT = 10\n",
    "\n",
    "obj_img = cv2.imread('ambientcommonsbook.jpg',0)          # queryImage\n",
    "\n",
    "ret, frame = cv2.VideoCapture(0).read()\n",
    "\n",
    "#scene_img = cv2.imread('books.jpg',0) # trainImage\n",
    "\n",
    "scene_img = frame\n",
    "\n",
    "\n",
    "orb = cv2.ORB_create(nfeatures=2000)\n"
   ]
  },
  {
   "cell_type": "code",
   "execution_count": null,
   "metadata": {},
   "outputs": [],
   "source": [
    "dir(cv2)"
   ]
  },
  {
   "cell_type": "code",
   "execution_count": 8,
   "metadata": {},
   "outputs": [],
   "source": [
    "def find_object(img1, img2):\n",
    "\n",
    "    # find the keypoints and descriptors with SIFT\n",
    "    kp1, des1 = orb.detectAndCompute(img1,None)\n",
    "    kp2, des2 = orb.detectAndCompute(img2,None)\n",
    "\n",
    "    FLANN_INDEX_KDTREE = 0\n",
    "    FLANN_INDEX_LSH = 6\n",
    "\n",
    "    index_params = dict(algorithm = FLANN_INDEX_LSH,\n",
    "                       table_number = 6, # 12\n",
    "                       key_size = 12,     # 20\n",
    "                       multi_probe_level = 1) #2\n",
    "\n",
    "    search_params = dict(checks = 50)\n",
    "\n",
    "    flann = cv2.FlannBasedMatcher(index_params, search_params)\n",
    "\n",
    "    matches = flann.knnMatch(des1, des2, k=2)\n",
    "\n",
    "    #matches= flann.knnMatch(np.asarray(des1,np.float32),np.asarray(des2,np.float32), k=2)\n",
    "\n",
    "\n",
    "    # store all the good matches as per Lowe's ratio test.\n",
    "    good = []\n",
    "    for match in matches:\n",
    "        if(len(match) == 2):\n",
    "            m,n = match\n",
    "            if m.distance < 0.7*n.distance:\n",
    "                good.append(m)\n",
    "                    \n",
    "            \n",
    "    if len(good)>MIN_MATCH_COUNT:\n",
    "        src_pts = np.float32([ kp1[m.queryIdx].pt for m in good ]).reshape(-1,1,2)\n",
    "        dst_pts = np.float32([ kp2[m.trainIdx].pt for m in good ]).reshape(-1,1,2)\n",
    "\n",
    "        M, mask = cv2.findHomography(src_pts, dst_pts, cv2.RANSAC,5.0)\n",
    "        matchesMask = mask.ravel().tolist()\n",
    "\n",
    "        h,w = img1.shape\n",
    "        pts = np.float32([ [0,0],[0,h-1],[w-1,h-1],[w-1,0] ]).reshape(-1,1,2)\n",
    "        \n",
    "        dst = cv2.perspectiveTransform(pts,M)\n",
    "        \n",
    "#        img2 = cv2.polylines(img2,[np.int32(dst)],True,255,3, cv2.LINE_AA)\n",
    "        \n",
    "        return dst\n",
    "    else:\n",
    "        #print(\"Not enough matches are found - {}/{}\".format(len(good),MIN_MATCH_COUNT))\n",
    "        matchesMask = None\n",
    "        return None\n",
    "\n"
   ]
  },
  {
   "cell_type": "code",
   "execution_count": 5,
   "metadata": {},
   "outputs": [
    {
     "ename": "AttributeError",
     "evalue": "'NoneType' object has no attribute 'any'",
     "output_type": "error",
     "traceback": [
      "\u001b[0;31m---------------------------------------------------------------------------\u001b[0m",
      "\u001b[0;31mAttributeError\u001b[0m                            Traceback (most recent call last)",
      "\u001b[0;32m<ipython-input-5-8ffa7bd05248>\u001b[0m in \u001b[0;36m<module>\u001b[0;34m\u001b[0m\n\u001b[1;32m      2\u001b[0m \u001b[0;34m\u001b[0m\u001b[0m\n\u001b[1;32m      3\u001b[0m \u001b[0;34m\u001b[0m\u001b[0m\n\u001b[0;32m----> 4\u001b[0;31m \u001b[0;32mif\u001b[0m\u001b[0;34m(\u001b[0m\u001b[0mcoords\u001b[0m\u001b[0;34m.\u001b[0m\u001b[0many\u001b[0m\u001b[0;34m(\u001b[0m\u001b[0;34m)\u001b[0m\u001b[0;34m)\u001b[0m\u001b[0;34m:\u001b[0m\u001b[0;34m\u001b[0m\u001b[0m\n\u001b[0m\u001b[1;32m      5\u001b[0m     draw_params = dict(matchColor = (0,255,0), # draw matches in green color\n\u001b[1;32m      6\u001b[0m                \u001b[0msinglePointColor\u001b[0m \u001b[0;34m=\u001b[0m \u001b[0;32mNone\u001b[0m\u001b[0;34m,\u001b[0m\u001b[0;34m\u001b[0m\u001b[0m\n",
      "\u001b[0;31mAttributeError\u001b[0m: 'NoneType' object has no attribute 'any'"
     ]
    }
   ],
   "source": [
    "coords = find_object(obj_img, scene_img)\n",
    "\n",
    "\n",
    "if(coords.any()):\n",
    "    draw_params = dict(matchColor = (0,255,0), # draw matches in green color\n",
    "               singlePointColor = None,\n",
    "               flags = 2)\n",
    "\n",
    "    img2 = cv2.polylines(scene_img,[np.int32(coords)],True,255,3, cv2.LINE_AA)\n",
    "#    img3 = cv2.drawMatches(obj_img,kp1,scene_img,kp2,good,None,**draw_params)\n",
    "\n",
    "    plt.imshow(img2, 'gray'),plt.show()"
   ]
  },
  {
   "cell_type": "markdown",
   "metadata": {},
   "source": []
  },
  {
   "cell_type": "markdown",
   "metadata": {},
   "source": [
    "## Boundary detection with camera"
   ]
  },
  {
   "cell_type": "code",
   "execution_count": 14,
   "metadata": {},
   "outputs": [],
   "source": [
    "import numpy as np\n",
    "import cv2\n"
   ]
  },
  {
   "cell_type": "code",
   "execution_count": 11,
   "metadata": {},
   "outputs": [],
   "source": [
    "ret, frame = cv2.VideoCapture(0).read()\n",
    "cap.release()\n",
    "frame_height, frame_width = frame.shape[:2]\n",
    "\n",
    "def blank_overlay(height, width):\n",
    "    return np.zeros((height, width, 3), dtype=np.uint8)\n",
    "\n",
    "def rectangle_creation(event, x, y, flags, param):\n",
    "    global temp_point, rectangles\n",
    "    # if the left mouse button was clicked, record the starting\n",
    "    if event == cv2.EVENT_LBUTTONDOWN:\n",
    "        temp_point = (x, y)\n",
    "    # check to see if the left mouse button was released\n",
    "    elif event == cv2.EVENT_LBUTTONUP:\n",
    "        if(temp_point):\n",
    "            rectangles = [[temp_point, (x, y)]] # we only use one for now\n",
    "            recalculate_region(rectangles[0])    \n",
    "        temp_point = None\n",
    "        \n",
    "def recalculate_region(r):\n",
    "    global rectangles, overlay, feature_region, frame, kp_fr, des_fr, frame_height, frame_width\n",
    "    \n",
    "    print(r[0], r[1])\n",
    "    \n",
    "    overlay = blank_overlay(frame_height, frame_width)\n",
    "    cv2.rectangle(overlay, r[0], r[1], (0, 255, 0), 2)\n",
    "    \n",
    "    feature_region = frame[r[0][1]:r[1][1], r[0][0]:r[1][0]]\n",
    "    \n",
    "    kp_fr, des_fr = orb.detectAndCompute(feature_region, None)\n",
    "    \n",
    "    feature_region = cv2.drawKeypoints(frame[r[0][1]:r[1][1], r[0][0]:r[1][0]], kp_fr, None, color=(0,255,0),  flags=cv2.DrawMatchesFlags_DEFAULT)\n",
    "    \n",
    "\n",
    "# now let's initialize the list of reference point\n",
    "temp_point = []\n",
    "rectangles = [] \n",
    "feature_region = np.zeros((1, 1, 3), dtype=np.uint8)\n",
    "\n",
    "overlay = blank_overlay(frame_height, frame_width)\n",
    "\n",
    "cv2.namedWindow(\"image\")\n",
    "cv2.setMouseCallback(\"image\", rectangle_creation)\n"
   ]
  },
  {
   "cell_type": "code",
   "execution_count": 15,
   "metadata": {
    "scrolled": true
   },
   "outputs": [
    {
     "ename": "KeyboardInterrupt",
     "evalue": "",
     "output_type": "error",
     "traceback": [
      "\u001b[0;31m---------------------------------------------------------------------------\u001b[0m",
      "\u001b[0;31mKeyboardInterrupt\u001b[0m                         Traceback (most recent call last)",
      "\u001b[0;32m<ipython-input-15-69901aa152dd>\u001b[0m in \u001b[0;36m<module>\u001b[0;34m\u001b[0m\n\u001b[1;32m      8\u001b[0m     \u001b[0mret\u001b[0m\u001b[0;34m,\u001b[0m \u001b[0mframe\u001b[0m \u001b[0;34m=\u001b[0m \u001b[0mcap\u001b[0m\u001b[0;34m.\u001b[0m\u001b[0mread\u001b[0m\u001b[0;34m(\u001b[0m\u001b[0;34m)\u001b[0m\u001b[0;34m\u001b[0m\u001b[0m\n\u001b[1;32m      9\u001b[0m \u001b[0;34m\u001b[0m\u001b[0m\n\u001b[0;32m---> 10\u001b[0;31m     \u001b[0mcoords\u001b[0m \u001b[0;34m=\u001b[0m \u001b[0mfind_object\u001b[0m\u001b[0;34m(\u001b[0m\u001b[0mobj_img\u001b[0m\u001b[0;34m,\u001b[0m \u001b[0mframe\u001b[0m\u001b[0;34m)\u001b[0m\u001b[0;34m\u001b[0m\u001b[0m\n\u001b[0m\u001b[1;32m     11\u001b[0m \u001b[0;34m\u001b[0m\u001b[0m\n\u001b[1;32m     12\u001b[0m \u001b[0;34m\u001b[0m\u001b[0m\n",
      "\u001b[0;32m<ipython-input-8-11153e5c802f>\u001b[0m in \u001b[0;36mfind_object\u001b[0;34m(img1, img2)\u001b[0m\n\u001b[1;32m      3\u001b[0m     \u001b[0;31m# find the keypoints and descriptors with SIFT\u001b[0m\u001b[0;34m\u001b[0m\u001b[0;34m\u001b[0m\u001b[0m\n\u001b[1;32m      4\u001b[0m     \u001b[0mkp1\u001b[0m\u001b[0;34m,\u001b[0m \u001b[0mdes1\u001b[0m \u001b[0;34m=\u001b[0m \u001b[0morb\u001b[0m\u001b[0;34m.\u001b[0m\u001b[0mdetectAndCompute\u001b[0m\u001b[0;34m(\u001b[0m\u001b[0mimg1\u001b[0m\u001b[0;34m,\u001b[0m\u001b[0;32mNone\u001b[0m\u001b[0;34m)\u001b[0m\u001b[0;34m\u001b[0m\u001b[0m\n\u001b[0;32m----> 5\u001b[0;31m     \u001b[0mkp2\u001b[0m\u001b[0;34m,\u001b[0m \u001b[0mdes2\u001b[0m \u001b[0;34m=\u001b[0m \u001b[0morb\u001b[0m\u001b[0;34m.\u001b[0m\u001b[0mdetectAndCompute\u001b[0m\u001b[0;34m(\u001b[0m\u001b[0mimg2\u001b[0m\u001b[0;34m,\u001b[0m\u001b[0;32mNone\u001b[0m\u001b[0;34m)\u001b[0m\u001b[0;34m\u001b[0m\u001b[0m\n\u001b[0m\u001b[1;32m      6\u001b[0m \u001b[0;34m\u001b[0m\u001b[0m\n\u001b[1;32m      7\u001b[0m     \u001b[0mFLANN_INDEX_KDTREE\u001b[0m \u001b[0;34m=\u001b[0m \u001b[0;36m0\u001b[0m\u001b[0;34m\u001b[0m\u001b[0m\n",
      "\u001b[0;31mKeyboardInterrupt\u001b[0m: "
     ]
    }
   ],
   "source": [
    "obj_img = cv2.imread('attentionbook.jpg',0) \n",
    "cap = cv2.VideoCapture(0)\n",
    "\n",
    "alpha = 0.5\n",
    "\n",
    "while True:\n",
    "    # Capture frame-by-frame\n",
    "    ret, frame = cap.read()\n",
    "\n",
    "    coords = find_object(obj_img, frame)\n",
    "\n",
    "\n",
    "    if(coords is not None and coords.any()):\n",
    "        cv2.addWeighted(overlay, alpha, frame, 1 - alpha, 0, frame)\n",
    "\n",
    "        draw_params = dict(matchColor = (0,255,0), # draw matches in green color\n",
    "                   singlePointColor = None,\n",
    "                   flags = 2)\n",
    "\n",
    "        img2 = cv2.polylines(frame,[np.int32(coords)],True,255,3, cv2.LINE_AA)\n",
    "    #    img3 = cv2.drawMatches(obj_img,kp1,scene_img,kp2,good,None,**draw_params)\n",
    "        cv2.imshow(\"image\", img2)\n",
    "\n",
    "        \n",
    "        \n",
    "    key = cv2.waitKey(1) & 0xFF\n",
    "    # press 'r' to reset the window\n",
    "    if key == ord(\"r\"):\n",
    "        overlay = new_overlay()\n",
    "    # if the 'c' key is pressed, break from the loop\n",
    "    if key == ord(\"c\"):\n",
    "        break\n",
    "\n",
    "\n",
    "# When everything done, release the captureqq\n",
    "cap.release()\n",
    "cv2.destroyAllWindows()"
   ]
  },
  {
   "cell_type": "code",
   "execution_count": null,
   "metadata": {},
   "outputs": [],
   "source": []
  }
 ],
 "metadata": {
  "kernelspec": {
   "display_name": "Python 3",
   "language": "python",
   "name": "python3"
  },
  "language_info": {
   "codemirror_mode": {
    "name": "ipython",
    "version": 3
   },
   "file_extension": ".py",
   "mimetype": "text/x-python",
   "name": "python",
   "nbconvert_exporter": "python",
   "pygments_lexer": "ipython3",
   "version": "3.7.0"
  }
 },
 "nbformat": 4,
 "nbformat_minor": 2
}
