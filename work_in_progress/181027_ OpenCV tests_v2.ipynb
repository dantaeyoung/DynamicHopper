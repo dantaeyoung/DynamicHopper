{
 "cells": [
  {
   "cell_type": "markdown",
   "metadata": {},
   "source": [
    "### dynamically grab features from rectangle & match BETTER"
   ]
  },
  {
   "cell_type": "code",
   "execution_count": 1,
   "metadata": {},
   "outputs": [],
   "source": [
    "import numpy as np\n",
    "import cv2"
   ]
  },
  {
   "cell_type": "code",
   "execution_count": 8,
   "metadata": {},
   "outputs": [
    {
     "name": "stdout",
     "output_type": "stream",
     "text": [
      "480 640\n"
     ]
    }
   ],
   "source": [
    "ret, frame = cv2.VideoCapture(0).read()\n",
    "frame_height, frame_width = frame.shape[:2]\n",
    "\n",
    "print(frame_height, frame_width)"
   ]
  },
  {
   "cell_type": "code",
   "execution_count": 9,
   "metadata": {},
   "outputs": [],
   "source": [
    "settings = { \n",
    "    \"frame_height\": frame_height,\n",
    "    \"frame_width\": frame_width\n",
    "}"
   ]
  },
  {
   "cell_type": "code",
   "execution_count": 10,
   "metadata": {},
   "outputs": [],
   "source": [
    "def blank_overlay(height, width):\n",
    "    return np.zeros((height, width, 3), dtype=np.uint8)\n",
    "\n",
    "def rectangle_creation(event, x, y, flags, param):\n",
    "    global temp_point, rectangles\n",
    "    # if the left mouse button was clicked, record the starting\n",
    "    if event == cv2.EVENT_LBUTTONDOWN:\n",
    "        temp_point = (x, y)\n",
    "    # check to see if the left mouse button was released\n",
    "    elif event == cv2.EVENT_LBUTTONUP:\n",
    "        if(temp_point):\n",
    "            rectangles = [[temp_point, (x, y)]] # we only use one for now\n",
    "            recalculate_region(rectangles[0])    \n",
    "        temp_point = None\n",
    "        \n",
    "def recalculate_region(r):\n",
    "    global rectangles, overlay, feature_region, frame, kp_fr, des_fr, frame_height, frame_width\n",
    "    \n",
    "    print(r[0], r[1])\n",
    "    \n",
    "    overlay = blank_overlay(frame_height, frame_width)\n",
    "    cv2.rectangle(overlay, r[0], r[1], (0, 255, 0), 2)\n",
    "    \n",
    "    feature_region = frame[r[0][1]:r[1][1], r[0][0]:r[1][0]]\n",
    "    \n",
    "    kp_fr, des_fr = orb.detectAndCompute(feature_region, None)\n",
    "    \n",
    "    feature_region = cv2.drawKeypoints(frame[r[0][1]:r[1][1], r[0][0]:r[1][0]], kp_fr, None, color=(0,255,0),  flags=cv2.DrawMatchesFlags_DEFAULT)\n",
    "\n",
    "    "
   ]
  },
  {
   "cell_type": "code",
   "execution_count": 11,
   "metadata": {},
   "outputs": [],
   "source": [
    "\n",
    "# now let's initialize the list of reference point\n",
    "temp_point = []\n",
    "rectangles = [] \n",
    "feature_region = np.zeros((1, 1, 3), dtype=np.uint8)\n",
    "\n",
    "kp_fr = None\n",
    "des_fr = None\n",
    "\n",
    "overlay = blank_overlay(frame_height, frame_width)\n",
    "\n",
    "cv2.namedWindow(\"image\")\n",
    "cv2.setMouseCallback(\"image\", rectangle_creation)\n",
    "\n",
    "cap = cv2.VideoCapture(0)\n",
    "\n",
    "alpha = 0.5\n",
    "\n",
    "# Initiate ORB detector\n",
    "orb = cv2.ORB_create(nfeatures=2000)\n",
    "\n",
    "# create BFMatcher object\n",
    "bf = cv2.BFMatcher()\n",
    "\n"
   ]
  },
  {
   "cell_type": "code",
   "execution_count": 12,
   "metadata": {},
   "outputs": [
    {
     "ename": "error",
     "evalue": "OpenCV(3.4.1) C:\\Miniconda3\\conda-bld\\opencv-suite_1533128839831\\work\\modules\\highgui\\src\\window.cpp:356: error: (-215) size.width>0 && size.height>0 in function cv::imshow\n",
     "output_type": "error",
     "traceback": [
      "\u001b[1;31m---------------------------------------------------------------------------\u001b[0m",
      "\u001b[1;31merror\u001b[0m                                     Traceback (most recent call last)",
      "\u001b[1;32m<ipython-input-12-3b0d97e112c9>\u001b[0m in \u001b[0;36m<module>\u001b[1;34m()\u001b[0m\n\u001b[0;32m     27\u001b[0m \u001b[1;33m\u001b[0m\u001b[0m\n\u001b[0;32m     28\u001b[0m     \u001b[1;31m# display the image and wait for a keypress\u001b[0m\u001b[1;33m\u001b[0m\u001b[1;33m\u001b[0m\u001b[0m\n\u001b[1;32m---> 29\u001b[1;33m     \u001b[0mcv2\u001b[0m\u001b[1;33m.\u001b[0m\u001b[0mimshow\u001b[0m\u001b[1;33m(\u001b[0m\u001b[1;34m\"image\"\u001b[0m\u001b[1;33m,\u001b[0m \u001b[0mframe\u001b[0m\u001b[1;33m)\u001b[0m\u001b[1;33m\u001b[0m\u001b[0m\n\u001b[0m\u001b[0;32m     30\u001b[0m \u001b[1;33m\u001b[0m\u001b[0m\n\u001b[0;32m     31\u001b[0m     \u001b[0mkey\u001b[0m \u001b[1;33m=\u001b[0m \u001b[0mcv2\u001b[0m\u001b[1;33m.\u001b[0m\u001b[0mwaitKey\u001b[0m\u001b[1;33m(\u001b[0m\u001b[1;36m1\u001b[0m\u001b[1;33m)\u001b[0m \u001b[1;33m&\u001b[0m \u001b[1;36m0xFF\u001b[0m\u001b[1;33m\u001b[0m\u001b[0m\n",
      "\u001b[1;31merror\u001b[0m: OpenCV(3.4.1) C:\\Miniconda3\\conda-bld\\opencv-suite_1533128839831\\work\\modules\\highgui\\src\\window.cpp:356: error: (-215) size.width>0 && size.height>0 in function cv::imshow\n"
     ]
    }
   ],
   "source": [
    "cap = cv2.VideoCapture(0)\n",
    "### LOOOP\n",
    "\n",
    "while True:\n",
    "    ret, frame = cap.read()\n",
    "\n",
    "    kp, des = orb.detectAndCompute(frame,None)\n",
    "\n",
    "    if(np.any(des_fr)):\n",
    "        # Match descriptors.\n",
    "        matches = bf.knnMatch(des_fr, des, k=2)\n",
    "\n",
    "        # store all the good matches as per Lowe's ratio test.\n",
    "        good = []\n",
    "        for m,n in matches:\n",
    "            if m.distance < 0.75 * n.distance:\n",
    "                good.append([m])\n",
    "            \n",
    "                \n",
    "        # Draw first 10 matches.\n",
    "        frame = cv2.drawMatchesKnn(feature_region,kp_fr,frame,kp,good,None, flags=2)\n",
    "\n",
    "    \n",
    "    # picture in picture\n",
    "#    frame[50:50+feature_region.shape[0], 50:50+feature_region.shape[1]] = feature_region    \n",
    "#    cv2.addWeighted(overlay, alpha, frame, 1 - alpha, 0, frame)\n",
    "    \n",
    "    # display the image and wait for a keypress\n",
    "    cv2.imshow(\"image\", frame)\n",
    "    \n",
    "    key = cv2.waitKey(1) & 0xFF\n",
    "    # press 'r' to reset the window\n",
    "    if key == ord(\"r\"):\n",
    "        overlay = new_overlay()\n",
    "    # if the 'c' key is pressed, break from the loop\n",
    "    if key == ord(\"c\"):\n",
    "        break\n",
    "        \n",
    "# close all open windows\n",
    "cap.release()\n",
    "cv2.destroyAllWindows() \n"
   ]
  },
  {
   "cell_type": "markdown",
   "metadata": {},
   "source": []
  },
  {
   "cell_type": "code",
   "execution_count": null,
   "metadata": {},
   "outputs": [],
   "source": []
  },
  {
   "cell_type": "code",
   "execution_count": null,
   "metadata": {},
   "outputs": [],
   "source": []
  }
 ],
 "metadata": {
  "kernelspec": {
   "display_name": "Python 3",
   "language": "python",
   "name": "python3"
  },
  "language_info": {
   "codemirror_mode": {
    "name": "ipython",
    "version": 3
   },
   "file_extension": ".py",
   "mimetype": "text/x-python",
   "name": "python",
   "nbconvert_exporter": "python",
   "pygments_lexer": "ipython3",
   "version": "3.7.0"
  }
 },
 "nbformat": 4,
 "nbformat_minor": 2
}
